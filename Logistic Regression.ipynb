{
 "cells": [
  {
   "cell_type": "code",
   "execution_count": 2,
   "metadata": {},
   "outputs": [
    {
     "data": {
      "text/plain": [
       "Text(0,0.5,'Pass/Fail')"
      ]
     },
     "execution_count": 2,
     "metadata": {},
     "output_type": "execute_result"
    },
    {
     "data": {
      "image/png": "[encoded data removed]",
      "text/plain": [
       "<Figure size 432x288 with 1 Axes>"
      ]
     },
     "metadata": {},
     "output_type": "display_data"
    }
   ],
   "source": [
    "from matplotlib import pyplot as plt\n",
    "import numpy as np\n",
    "%matplotlib inline\n",
    "\n",
    "hours = np.array([0.50,0.75,1.00,1.25,1.50,1.75,1.75,2.00,2.25,2.50,2.75,3.00,3.25,3.50,4.00,4.25,4.50,4.75,5.00,5.50])\n",
    "pass_y = np.array([0,0,0,0,0,0,1,0,1,0,1,0,1,0,1,1,1,1,1,1])\n",
    "\n",
    "\n",
    "#hours = [0.50,0.75,1.00,1.25,1.50,1.75,1.75,2.00,2.25,2.50,2.75,3.00,3.25,3.50,4.00,4.25,4.50,4.75,5.00,5.50]\n",
    "#pass_y = [0,0,0,0,0,0,1,0,1,0,1,0,1,0,1,1,1,1,1,1]\n",
    "\n",
    "plt.plot(hours,pass_y,'ro',label=\"Probability of passing exam\")\n",
    "plt.title(\"Probability of passing exam\")\n",
    "plt.xlabel(\"Hours\")\n",
    "plt.ylabel(\"Pass/Fail\")\n"
   ]
  },
  {
   "cell_type": "code",
   "execution_count": 50,
   "metadata": {},
   "outputs": [
    {
     "name": "stdout",
     "output_type": "stream",
     "text": [
      "[0.5  0.75 1.   1.25 1.5  1.75 1.75 2.   2.25 2.5  2.75 3.   3.25 3.5\n",
      " 4.   4.25 4.5  4.75 5.   5.5 ]\n",
      "<class 'numpy.ndarray'>\n",
      "[1 2 3 4 5]\n"
     ]
    }
   ],
   "source": [
    "print (hours)\n",
    "print (type(hours))\n",
    "array = np.array([1,2,3,4,5])\n",
    "print (array)"
   ]
  },
  {
   "cell_type": "code",
   "execution_count": 38,
   "metadata": {
    "collapsed": true
   },
   "outputs": [],
   "source": [
    "from sklearn.model_selection import train_test_split\n",
    "from sklearn.linear_model import LogisticRegression\n",
    "\n",
    "x_train,x_test,y_train,y_test = train_test_split(hours,pass_y,test_size =0.40)\n",
    "\n",
    "model_exam = LogisticRegression()\n",
    "\n",
    "\n"
   ]
  },
  {
   "cell_type": "code",
   "execution_count": 72,
   "metadata": {},
   "outputs": [
    {
     "name": "stdout",
     "output_type": "stream",
     "text": [
      "(16,)\n",
      "[0.75 3.5  4.5  1.25 1.75 5.   3.25 0.5  4.25 2.25 4.75 2.5  1.5  1.\n",
      " 4.   3.  ]\n"
     ]
    }
   ],
   "source": [
    "print(x_train.shape)\n",
    "print(x_train)"
   ]
  },
  {
   "cell_type": "code",
   "execution_count": 39,
   "metadata": {
    "collapsed": true
   },
   "outputs": [],
   "source": [
    "x_train=x_train.reshape(-1,1) # reshape(no.of set, rows, columns)\n",
    "x_test = x_test.reshape(-1,1)\n",
    "\n",
    "exam_train = model_exam.fit(x_train,y_train)\n",
    "#x_train = .reshape(x_train, (len(x_train),-1))  \n",
    "#x_train2 = x_train.reshape(1,-1)\n",
    "#print(x_train2)"
   ]
  },
  {
   "cell_type": "code",
   "execution_count": 40,
   "metadata": {},
   "outputs": [
    {
     "name": "stdout",
     "output_type": "stream",
     "text": [
      "[[1.25]\n",
      " [3.25]\n",
      " [2.25]\n",
      " [5.5 ]\n",
      " [0.5 ]\n",
      " [1.  ]\n",
      " [3.5 ]\n",
      " [4.5 ]\n",
      " [4.75]\n",
      " [2.  ]\n",
      " [3.  ]\n",
      " [5.  ]]\n",
      "[[2.5 ]\n",
      " [4.  ]\n",
      " [1.5 ]\n",
      " [0.75]\n",
      " [2.75]\n",
      " [4.25]\n",
      " [1.75]\n",
      " [1.75]]\n"
     ]
    }
   ],
   "source": [
    "print(x_train[:])\n",
    "print(x_test)"
   ]
  },
  {
   "cell_type": "code",
   "execution_count": 28,
   "metadata": {},
   "outputs": [
    {
     "name": "stdout",
     "output_type": "stream",
     "text": [
      "[[4.75]\n",
      " [1.75]\n",
      " [5.5 ]\n",
      " [0.5 ]\n",
      " [1.  ]\n",
      " [2.75]\n",
      " [4.5 ]\n",
      " [4.25]\n",
      " [2.  ]\n",
      " [2.25]\n",
      " [5.  ]\n",
      " [1.75]\n",
      " [1.5 ]\n",
      " [0.75]\n",
      " [3.25]\n",
      " [4.  ]]\n",
      "[[4.75]\n",
      " [1.75]\n",
      " [5.5 ]\n",
      " [0.5 ]\n",
      " [1.  ]\n",
      " [2.75]\n",
      " [4.5 ]\n",
      " [4.25]\n",
      " [2.  ]\n",
      " [2.25]\n",
      " [5.  ]\n",
      " [1.75]\n",
      " [1.5 ]\n",
      " [0.75]\n",
      " [3.25]\n",
      " [4.  ]]\n"
     ]
    }
   ],
   "source": [
    "print (x_train)\n",
    "print(x_train.reshape(-1,1))"
   ]
  },
  {
   "cell_type": "code",
   "execution_count": 42,
   "metadata": {},
   "outputs": [
    {
     "name": "stdout",
     "output_type": "stream",
     "text": [
      "[[2.5 ]\n",
      " [4.  ]\n",
      " [1.5 ]\n",
      " [0.75]\n",
      " [2.75]\n",
      " [4.25]\n",
      " [1.75]\n",
      " [1.75]]\n",
      "[0 1 0 0 1 1 1 0]\n",
      "Exam predict:  [1 1 0 0 1 1 0 0]\n"
     ]
    }
   ],
   "source": [
    "exam_predict = model_exam.predict(x_test)\n",
    "print(x_test)\n",
    "print(y_test)\n",
    "print (\"Exam predict: \", exam_predict)"
   ]
  },
  {
   "cell_type": "code",
   "execution_count": 43,
   "metadata": {},
   "outputs": [
    {
     "name": "stdout",
     "output_type": "stream",
     "text": [
      "Accuracy : 0.75\n"
     ]
    }
   ],
   "source": [
    "Accuracy = model_exam.score(x_test,y_test)\n",
    "print(\"Accuracy :\", Accuracy)"
   ]
  },
  {
   "cell_type": "code",
   "execution_count": null,
   "metadata": {
    "collapsed": true
   },
   "outputs": [],
   "source": []
  }
 ],
 "metadata": {
  "kernelspec": {
   "display_name": "Python 3",
   "language": "python",
   "name": "python3"
  },
  "language_info": {
   "codemirror_mode": {
    "name": "ipython",
    "version": 3
   },
   "file_extension": ".py",
   "mimetype": "text/x-python",
   "name": "python",
   "nbconvert_exporter": "python",
   "pygments_lexer": "ipython3",
   "version": "3.5.5"
  }
 },
 "nbformat": 4,
 "nbformat_minor": 2
}
