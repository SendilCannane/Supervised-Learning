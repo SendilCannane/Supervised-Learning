{
 "cells": [
  {
   "cell_type": "code",
   "execution_count": 2,
   "metadata": {},
   "outputs": [
    {
     "name": "stdout",
     "output_type": "stream",
     "text": [
      "[0.   0.12 0.24 0.36 0.48 0.6  0.72 0.84 0.96 1.08 1.2  1.32 1.44 1.56\n",
      " 1.68 1.8  1.92 2.04 2.16 2.28 2.4  2.52 2.64 2.76 2.88 3.   3.12 3.24\n",
      " 3.36 3.48 3.6  3.72 3.84 3.96 4.08 4.2  4.32 4.44 4.56 4.68 4.8  4.92\n",
      " 5.04 5.16 5.28 5.4  5.52 5.64 5.76 5.88 6.   6.12 6.24 6.36 6.48 6.6\n",
      " 6.72 6.84 6.96 7.08 7.2  7.32 7.44 7.56 7.68 7.8  7.92 8.04 8.16 8.28\n",
      " 8.4  8.52 8.64 8.76 8.88 9.   9.12 9.24 9.36 9.48 9.6  9.72 9.84 9.96]\n"
     ]
    }
   ],
   "source": [
    "import numpy as np\n",
    "a = np.arange(0.0,10.02,0.12)\n",
    "print (a)"
   ]
  },
  {
   "cell_type": "code",
   "execution_count": 63,
   "metadata": {},
   "outputs": [],
   "source": [
    "\n",
    "import tensorflow as tf\n",
    "import numpy\n",
    "import matplotlib.pyplot as plt\n",
    "rng = numpy.random\n",
    "%matplotlib inline"
   ]
  },
  {
   "cell_type": "code",
   "execution_count": 92,
   "metadata": {
    "collapsed": true
   },
   "outputs": [],
   "source": [
    "#Hyper-parameter\n",
    "learning_rate = 0.03\n",
    "training_epochs = 1000\n",
    "display_step = 50"
   ]
  },
  {
   "cell_type": "code",
   "execution_count": 11,
   "metadata": {},
   "outputs": [
    {
     "name": "stdout",
     "output_type": "stream",
     "text": [
      "[ 3.3    4.4    5.5    6.71   6.93   4.168  9.779  6.182  7.59   2.167\n",
      "  7.042 10.791  5.313  7.997  5.654  9.27   3.1  ]\n",
      "3.3\n",
      "4.4\n",
      "5.5\n",
      "6.71\n",
      "6.93\n",
      "4.168\n",
      "9.779\n",
      "6.182\n",
      "7.59\n",
      "2.167\n",
      "7.042\n",
      "10.791\n",
      "5.313\n",
      "7.997\n",
      "5.654\n",
      "9.27\n",
      "3.1\n"
     ]
    }
   ],
   "source": [
    "train_X = numpy.asarray([3.3,4.4,5.5,6.71,6.93,4.168,9.779,6.182,7.59,2.167,\n",
    "                         7.042,10.791,5.313,7.997,5.654,9.27,3.1])\n",
    "train_Y = numpy.asarray([1.7,2.76,2.09,3.19,1.694,1.573,3.366,2.596,2.53,1.221,\n",
    "                         2.827,3.465,1.65,2.904,2.42,2.94,1.3])\n",
    "print (train_X)\n",
    "n_samples = train_X.shape[0]   # 17 - it's nothing but a length\n",
    "#for i in range(train_X.shape[0]):\n",
    " #   print (train_X[i])"
   ]
  },
  {
   "cell_type": "code",
   "execution_count": 21,
   "metadata": {},
   "outputs": [
    {
     "name": "stdout",
     "output_type": "stream",
     "text": [
      "{(10.791, 3.465), (4.168, 1.573), (5.313, 1.65), (7.997, 2.904), (9.27, 2.94), (6.93, 1.694), (3.3, 1.7), (9.779, 3.366), (5.654, 2.42), (2.167, 1.221), (3.1, 1.3), (6.71, 3.19), (6.182, 2.596), (4.4, 2.76), (7.042, 2.827), (5.5, 2.09), (7.59, 2.53)}\n"
     ]
    }
   ],
   "source": [
    "z = zip(train_X, train_Y)\n",
    "train_data = set(z)\n",
    "print (train_data)"
   ]
  },
  {
   "cell_type": "code",
   "execution_count": 14,
   "metadata": {},
   "outputs": [
    {
     "name": "stdout",
     "output_type": "stream",
     "text": [
      "Weight : <tf.Variable 'weight_1:0' shape=() dtype=float32_ref> \n",
      " Bias :<tf.Variable 'bias_1:0' shape=() dtype=float32_ref>\n"
     ]
    }
   ],
   "source": [
    "X = tf.placeholder(\"float\")\n",
    "Y = tf.placeholder(\"float\")\n",
    "\n",
    "W = tf.Variable(rng.randn(), name = \"weight\")\n",
    "b = tf.Variable(rng.randn(), name = \"bias\")\n",
    "print(\"Weight : %s\" %W, \"\\n Bias :%s\" %b )"
   ]
  },
  {
   "cell_type": "code",
   "execution_count": 29,
   "metadata": {
    "collapsed": true
   },
   "outputs": [],
   "source": [
    "pred = tf.add(tf.multiply(X,W),b)\n"
   ]
  },
  {
   "cell_type": "code",
   "execution_count": 83,
   "metadata": {},
   "outputs": [],
   "source": [
    "cost = tf.reduce_sum(tf.pow(pred-Y, 2))/(2*n_samples)\n",
    "#cost = (1/n) * sum ([val**2 for val in (y-y_predicted)])\n",
    "# Gradient descent\n",
    "optimizer = tf.train.GradientDescentOptimizer(learning_rate).minimize(cost)"
   ]
  },
  {
   "cell_type": "code",
   "execution_count": 77,
   "metadata": {},
   "outputs": [],
   "source": [
    "init = tf.global_variables_initializer()"
   ]
  },
  {
   "cell_type": "code",
   "execution_count": null,
   "metadata": {
    "collapsed": true
   },
   "outputs": [],
   "source": [
    "'''ds = Dataset.from_tensor_slices((features,targets)) # warning: 2GB limit\n",
    "    ds = ds.batch(batch_size).repeat(num_epochs)\n",
    "    \n",
    "    # Shuffle the data, if specified.\n",
    "    if shuffle:\n",
    "      ds = ds.shuffle(10000)\n",
    "    \n",
    "    # Return the next batch of data.\n",
    "    features, labels = ds.make_one_shot_iterator().get_next()'''"
   ]
  },
  {
   "cell_type": "code",
   "execution_count": null,
   "metadata": {
    "collapsed": true
   },
   "outputs": [],
   "source": []
  },
  {
   "cell_type": "code",
   "execution_count": 93,
   "metadata": {},
   "outputs": [
    {
     "name": "stdout",
     "output_type": "stream",
     "text": [
      "Learning Rate:  0.03\n",
      "Epoch : 0050 Cost :  0.165876836 Weight : 0.40712887 Bias :  -0.38274065\n",
      "Epoch : 0100 Cost :  0.138285682 Weight : 0.37959653 Bias :  -0.17980567\n",
      "Epoch : 0150 Cost :  0.119306371 Weight : 0.35676453 Bias :  -0.01151639\n",
      "Epoch : 0200 Cost :  0.106250159 Weight : 0.33783048 Bias :  0.12804215\n",
      "Epoch : 0250 Cost :  0.097267993 Weight : 0.3221289 Bias :  0.24377495\n",
      "Epoch : 0300 Cost :  0.091088131 Weight : 0.3091079 Bias :  0.33974966\n",
      "Epoch : 0350 Cost :  0.086835951 Weight : 0.29830983 Bias :  0.41933933\n",
      "Epoch : 0400 Cost :  0.083909728 Weight : 0.2893553 Bias :  0.4853414\n",
      "Epoch : 0450 Cost :  0.081895761 Weight : 0.2819294 Bias :  0.5400761\n",
      "Epoch : 0500 Cost :  0.080509461 Weight : 0.27577135 Bias :  0.58546543\n",
      "Epoch : 0550 Cost :  0.079554982 Weight : 0.27066457 Bias :  0.6231063\n",
      "Epoch : 0600 Cost :  0.078897662 Weight : 0.26642972 Bias :  0.65432066\n",
      "Epoch : 0650 Cost :  0.078444891 Weight : 0.26291776 Bias :  0.68020636\n",
      "Epoch : 0700 Cost :  0.078132905 Weight : 0.2600054 Bias :  0.70167243\n",
      "Epoch : 0750 Cost :  0.077917799 Weight : 0.2575902 Bias :  0.71947443\n",
      "Epoch : 0800 Cost :  0.077769443 Weight : 0.2555874 Bias :  0.7342367\n",
      "Epoch : 0850 Cost :  0.077667087 Weight : 0.25392646 Bias :  0.7464789\n",
      "Epoch : 0900 Cost :  0.077596374 Weight : 0.2525491 Bias :  0.75663126\n",
      "Epoch : 0950 Cost :  0.077547498 Weight : 0.25140694 Bias :  0.76504976\n",
      "Epoch : 1000 Cost :  0.077513695 Weight : 0.25045964 Bias :  0.7720323\n",
      "Optimization Finished\n",
      "Training cost= 0.077513695 W= 0.25045964 b= 0.7720323 \n",
      "\n"
     ]
    },
    {
     "data": {
      "image/png": "[encoded data removed]",
      "text/plain": [
       "<Figure size 432x288 with 1 Axes>"
      ]
     },
     "metadata": {},
     "output_type": "display_data"
    }
   ],
   "source": [
    "with tf.Session() as sess:\n",
    "    sess.run(init)\n",
    "    '''\n",
    "    learning_rate = 0.03\n",
    "training_epochs = 1000\n",
    "display_step = 50 '''\n",
    "    #print(\"W=\", W.numpy(), \"b=\", b.numpy())\n",
    "    print (\"Learning Rate: \", learning_rate)\n",
    "    for epoch in range(training_epochs):\n",
    "        for (x,y) in zip(train_X,train_Y):\n",
    "           sess.run(optimizer, feed_dict={X:x, Y:y})\n",
    "            \n",
    "        if(epoch+1) % display_step == 0:\n",
    "            c = sess.run(cost,feed_dict = {X: train_X, Y: train_Y})\n",
    "            print (\"Epoch :\", '%04d' %(epoch+1), \"Cost : \", \"{:.9f}\".format(c), \\\n",
    "                  \"Weight :\", sess.run(W), \"Bias : \", sess.run(b))\n",
    "            \n",
    "    print (\"Optimization Finished\")\n",
    "   # tc = sess.run(cost,feed_dict = {X: train_X, Y: train_Y}\n",
    "    #print(\"Training Cost :\" , tc , \"Weight :%d\" % W, \"Bias :%d\" % b)\n",
    "    training_cost = sess.run(cost, feed_dict={X: train_X, Y: train_Y})\n",
    "    print(\"Training cost=\", training_cost, \"W=\", sess.run(W), \"b=\", sess.run(b), '\\n')\n",
    "    \n",
    "    #plt.plot(train_X,train_Y, 'r*',label=\"Original\")\n",
    "    plt.plot(train_X,sess.run(W) * train_X + sess.run(b),'r*', label = \"Fitted Line\")\n",
    "    plt.legend()\n",
    "    plt.show()"
   ]
  },
  {
   "cell_type": "code",
   "execution_count": 74,
   "metadata": {},
   "outputs": [],
   "source": [
    "#Graphics Display\n"
   ]
  },
  {
   "cell_type": "code",
   "execution_count": null,
   "metadata": {
    "collapsed": true
   },
   "outputs": [],
   "source": []
  }
 ],
 "metadata": {
  "kernelspec": {
   "display_name": "Python 3",
   "language": "python",
   "name": "python3"
  },
  "language_info": {
   "codemirror_mode": {
    "name": "ipython",
    "version": 3
   },
   "file_extension": ".py",
   "mimetype": "text/x-python",
   "name": "python",
   "nbconvert_exporter": "python",
   "pygments_lexer": "ipython3",
   "version": "3.5.5"
  }
 },
 "nbformat": 4,
 "nbformat_minor": 2
}
